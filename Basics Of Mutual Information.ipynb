{
 "cells": [
  {
   "cell_type": "markdown",
   "id": "d47cc7ab",
   "metadata": {},
   "source": [
    "Mutual information is a measure of the dependence between two variables. \n",
    "In the context of a pandas DataFrame, \n",
    "you can calculate the mutual information between columns using the mutual_info_score function from the sklearn.metrics module. Here's an example:"
   ]
  },
  {
   "cell_type": "code",
   "execution_count": 1,
   "id": "9ee310e4",
   "metadata": {},
   "outputs": [
    {
     "name": "stdout",
     "output_type": "stream",
     "text": [
      "Mutual information between 'Feature1' and 'Target': 0.6730116670092563\n"
     ]
    }
   ],
   "source": [
    "import pandas as pd\n",
    "from sklearn.metrics import mutual_info_score\n",
    "\n",
    "# create a sample dataframe\n",
    "data = {'Feature1': [1, 2, 3, 4, 5],\n",
    "        'Feature2': [1, 1, 2, 2, 2],\n",
    "        'Target': ['A', 'B', 'A', 'A', 'B']}\n",
    "df = pd.DataFrame(data)\n",
    "\n",
    "# calculate the mutual information between 'Feature1' and 'Target'\n",
    "mi = mutual_info_score(df['Feature1'], df['Target'])\n",
    "\n",
    "print(f\"Mutual information between 'Feature1' and 'Target': {mi}\")\n"
   ]
  },
  {
   "cell_type": "markdown",
   "id": "e79ca228",
   "metadata": {},
   "source": [
    "It is Similar to correlation"
   ]
  }
 ],
 "metadata": {
  "kernelspec": {
   "display_name": "Python 3 (ipykernel)",
   "language": "python",
   "name": "python3"
  },
  "language_info": {
   "codemirror_mode": {
    "name": "ipython",
    "version": 3
   },
   "file_extension": ".py",
   "mimetype": "text/x-python",
   "name": "python",
   "nbconvert_exporter": "python",
   "pygments_lexer": "ipython3",
   "version": "3.9.7"
  }
 },
 "nbformat": 4,
 "nbformat_minor": 5
}
